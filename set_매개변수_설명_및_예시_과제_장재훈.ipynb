{
  "nbformat": 4,
  "nbformat_minor": 0,
  "metadata": {
    "colab": {
      "provenance": []
    },
    "kernelspec": {
      "name": "python3",
      "display_name": "Python 3"
    },
    "language_info": {
      "name": "python"
    }
  },
  "cells": [
    {
      "cell_type": "markdown",
      "source": [
        "|내장 함수               |  |\n",
        "|-------------------------------|-------------|\n",
        "| **all()**                      | 주어진 iterable의 모든 요소가 참일 경우에만 True를 반환하고, 그렇지 않으면 False를 반환 |\n",
        "| **any()**                      | 반복 가능한 객체 중 하나 이상의 요소가 참인지 확인 |\n",
        "| **enumerate()**                | enumerate()는 파이썬 내장 함수로, 주로 for 루프에서 리스트나 다른 iterable 객체의 각 항목과 그 항목의 인덱스를 동시에 얻고자 할 때 사용|\n",
        "| **len()**                       |문자열, 리스트, 튜플 등의 객체에 포함된 요소의 개수를 반환하는 함수 |\n",
        "| **max()**                       |매개변수로 전달된 여러 값 중에서 가장 큰 값을 반환|\n",
        "| **min()**                       | 매개변수로 전달된 여러 값 중에서 가장 작은 값을 반환|\n",
        "| **sorted()**                    | 주어진 iterable 객체(리스트, 튜플, 문자열 등)를 정렬하여 새로운 리스트로 반환 |\n",
        "| **sum()**                       | 리스트, 튜플, 세트와 같은 반복 가능한 객체의 모든 값을 더한 결과를 반환|\n",
        "| **add()**                       | 집합에 요소를 추가 |\n",
        "| **clear()**                     | 집합의 모든 요소를 제거|\n",
        "| **copy()**                      | 집합의 복사본을 반환|\n",
        "| **difference()**                |두 개 이상의 집합의 차집합을 새로운 집합으로 반환 |\n",
        "| **difference_update()**         |다른 집합의 모든 요소를 현재 집합에서 제거|\n",
        "| **discard()**                   | 해당 요소를 제거|\n",
        "| **intersection()**              | 두 집합의 교집합을 반환|\n",
        "| **intersection_update()**       |둘 이상 set에서 공통요소 아닌 요소를 제거 |\n",
        "| **isdisjoint()**                |  두 집합이 공통 요소가 없는지 확인 |\n",
        "| **issubset()**                  | 집합이 다른 집합에 포함되는지 확인|\n",
        "| **issuperset()**                | 집합이 다른 집합을 포함하면 True를 반환 |\n",
        "| **pop()**                        |임의의 집합 요소를 제거하고 반환 |\n",
        "| **remove()**                     | 집합에서 요소를 제거|\n",
        "| **symmetric_difference()**      | 두 집합에서 공통되지 않는 요소들만 포함하는 새로운 집합을 반환|\n",
        "| **symmetric_difference_update()** | 두 집합에서 공통되는 요소를 제거하고, 나머지 요소들로 현재 집합을 갱신 |\n",
        "| **union()**                     |여러 집합의 합집합을 새로운 집합으로 반환|\n",
        "| **update()**                    | 현재 집합에 다른 집합의 요소를 추가하여 합집합으로 만듬 |\n"
      ],
      "metadata": {
        "id": "JZl9pVTHHXzQ"
      }
    },
    {
      "cell_type": "code",
      "source": [],
      "metadata": {
        "id": "hHoeqyWiG05u"
      },
      "execution_count": null,
      "outputs": []
    },
    {
      "cell_type": "code",
      "source": [
        "#all()\n",
        "s = {True, True, True}\n",
        "print(all(s))"
      ],
      "metadata": {
        "colab": {
          "base_uri": "https://localhost:8080/"
        },
        "id": "V8KWeBM7XQZU",
        "outputId": "c2c5b5c2-d006-4081-bff9-701905a2d3f9"
      },
      "execution_count": 6,
      "outputs": [
        {
          "output_type": "stream",
          "name": "stdout",
          "text": [
            "True\n"
          ]
        }
      ]
    },
    {
      "cell_type": "code",
      "source": [
        "#any()\n",
        "s = {True, True, True}\n",
        "print(any(s))"
      ],
      "metadata": {
        "colab": {
          "base_uri": "https://localhost:8080/"
        },
        "id": "i5vNq6b1XQpd",
        "outputId": "faafec63-9f68-4904-a29f-42699f1c0846"
      },
      "execution_count": 7,
      "outputs": [
        {
          "output_type": "stream",
          "name": "stdout",
          "text": [
            "True\n"
          ]
        }
      ]
    },
    {
      "cell_type": "code",
      "source": [
        "#enumerate\n",
        "animals = ['호랑이', '코끼리', '독수리', '판다']\n",
        "for rank, animal in enumerate(animals, start=1):\n",
        "    print(f\"{rank}위: {animal}\")"
      ],
      "metadata": {
        "colab": {
          "base_uri": "https://localhost:8080/"
        },
        "id": "cUwfAXg6XQnU",
        "outputId": "497ab2eb-b8d0-4002-eff7-008ac6952a24"
      },
      "execution_count": 8,
      "outputs": [
        {
          "output_type": "stream",
          "name": "stdout",
          "text": [
            "1위: 호랑이\n",
            "2위: 코끼리\n",
            "3위: 독수리\n",
            "4위: 판다\n"
          ]
        }
      ]
    },
    {
      "cell_type": "code",
      "source": [
        "# len\n",
        "my_list = [1, 2, 3, 4, 5]\n",
        "print(len(my_list))"
      ],
      "metadata": {
        "colab": {
          "base_uri": "https://localhost:8080/"
        },
        "id": "bQpDjQwYXQk8",
        "outputId": "78705629-9456-4e3d-f545-e6ccbfde4f2c"
      },
      "execution_count": 9,
      "outputs": [
        {
          "output_type": "stream",
          "name": "stdout",
          "text": [
            "5\n"
          ]
        }
      ]
    },
    {
      "cell_type": "code",
      "source": [
        "#max\n",
        "numbers = [23, 45, 12, 67, 8]\n",
        "print(max(numbers))"
      ],
      "metadata": {
        "colab": {
          "base_uri": "https://localhost:8080/"
        },
        "id": "wPcmHRjvXQit",
        "outputId": "6d9a5dfb-5747-4824-fb0d-02602074ba7b"
      },
      "execution_count": 11,
      "outputs": [
        {
          "output_type": "stream",
          "name": "stdout",
          "text": [
            "67\n"
          ]
        }
      ]
    },
    {
      "cell_type": "code",
      "source": [
        "#min\n",
        "numbers = [23, 45, 12, 67, 8]\n",
        "print(max(numbers))"
      ],
      "metadata": {
        "colab": {
          "base_uri": "https://localhost:8080/"
        },
        "id": "QzqB5-i4XQeM",
        "outputId": "9c7e8ae5-83c1-4352-a656-7d92a433ca3c"
      },
      "execution_count": 12,
      "outputs": [
        {
          "output_type": "stream",
          "name": "stdout",
          "text": [
            "67\n"
          ]
        }
      ]
    },
    {
      "cell_type": "code",
      "source": [
        "#sorted\n",
        "numbers = [5, 2, 8, 1, 9]\n",
        "print(sorted(numbers))"
      ],
      "metadata": {
        "colab": {
          "base_uri": "https://localhost:8080/"
        },
        "id": "rnF9qxb6aYnQ",
        "outputId": "a33de605-be57-406f-c777-10aef94d203f"
      },
      "execution_count": 13,
      "outputs": [
        {
          "output_type": "stream",
          "name": "stdout",
          "text": [
            "[1, 2, 5, 8, 9]\n"
          ]
        }
      ]
    },
    {
      "cell_type": "code",
      "source": [
        "#sum\n",
        "numbers = [1, 2, 3, 4, 5]\n",
        "print(sum(numbers))"
      ],
      "metadata": {
        "colab": {
          "base_uri": "https://localhost:8080/"
        },
        "id": "N-LGKTysaYkw",
        "outputId": "e5835c88-6487-4c3a-9887-2dc24033282a"
      },
      "execution_count": 14,
      "outputs": [
        {
          "output_type": "stream",
          "name": "stdout",
          "text": [
            "15\n"
          ]
        }
      ]
    },
    {
      "cell_type": "code",
      "source": [
        "#add\n",
        "my_set = {1, 2, 3}\n",
        "my_set.add(4)\n",
        "print(my_set)"
      ],
      "metadata": {
        "colab": {
          "base_uri": "https://localhost:8080/"
        },
        "id": "qHbBg7aKaYip",
        "outputId": "94b89798-205a-4480-b67e-8281d09c7e61"
      },
      "execution_count": 15,
      "outputs": [
        {
          "output_type": "stream",
          "name": "stdout",
          "text": [
            "{1, 2, 3, 4}\n"
          ]
        }
      ]
    },
    {
      "cell_type": "code",
      "source": [
        "#clear\n",
        "my_set = {1, 2, 3}\n",
        "my_set.clear()\n",
        "print(my_set)"
      ],
      "metadata": {
        "colab": {
          "base_uri": "https://localhost:8080/"
        },
        "id": "lBWabQeHaYcA",
        "outputId": "2f6035c1-7fe9-4f9b-b044-3ff1398a30c1"
      },
      "execution_count": 16,
      "outputs": [
        {
          "output_type": "stream",
          "name": "stdout",
          "text": [
            "set()\n"
          ]
        }
      ]
    },
    {
      "cell_type": "code",
      "source": [
        "# copy\n",
        "set1 = {1, 2, 3}\n",
        "set2 = set1.copy()\n",
        "print(set2)"
      ],
      "metadata": {
        "colab": {
          "base_uri": "https://localhost:8080/"
        },
        "id": "ES-8R93UaYaE",
        "outputId": "1abe6a7d-3095-4cf1-c03f-d754d6147e60"
      },
      "execution_count": 17,
      "outputs": [
        {
          "output_type": "stream",
          "name": "stdout",
          "text": [
            "{1, 2, 3}\n"
          ]
        }
      ]
    },
    {
      "cell_type": "code",
      "source": [
        "#difference\n",
        "set1 = {1, 2, 3, 4}\n",
        "set2 = {3, 4, 5}\n",
        "print(set1.difference(set2))"
      ],
      "metadata": {
        "colab": {
          "base_uri": "https://localhost:8080/"
        },
        "id": "TvZhiE3kaYX4",
        "outputId": "5419ff46-74ca-4b3f-e447-756167e4888d"
      },
      "execution_count": 18,
      "outputs": [
        {
          "output_type": "stream",
          "name": "stdout",
          "text": [
            "{1, 2}\n"
          ]
        }
      ]
    },
    {
      "cell_type": "code",
      "source": [
        "#difference_update()\n",
        "set1 = {1, 2, 3, 4}\n",
        "set2 = {3, 4, 5}\n",
        "set1.difference_update(set2)\n",
        "print(set1)"
      ],
      "metadata": {
        "colab": {
          "base_uri": "https://localhost:8080/"
        },
        "id": "j6q2cAvdaYVq",
        "outputId": "cd934fa1-5f22-4dae-ef3a-5672c69b57b9"
      },
      "execution_count": 19,
      "outputs": [
        {
          "output_type": "stream",
          "name": "stdout",
          "text": [
            "{1, 2}\n"
          ]
        }
      ]
    },
    {
      "cell_type": "code",
      "source": [
        "#discard\n",
        "my_set = {1, 2, 3}\n",
        "my_set.discard(2)\n",
        "print(my_set)"
      ],
      "metadata": {
        "colab": {
          "base_uri": "https://localhost:8080/"
        },
        "id": "1MlZeZt2aYTR",
        "outputId": "3c329f8c-1f23-4bec-f746-12017936052a"
      },
      "execution_count": 20,
      "outputs": [
        {
          "output_type": "stream",
          "name": "stdout",
          "text": [
            "{1, 3}\n"
          ]
        }
      ]
    },
    {
      "cell_type": "code",
      "source": [
        "#intersection\n",
        "set1 = {1, 2, 3}\n",
        "set2 = {2, 3, 4}\n",
        "print(set1.intersection(set2))"
      ],
      "metadata": {
        "colab": {
          "base_uri": "https://localhost:8080/"
        },
        "id": "vkUYZ20GaYRB",
        "outputId": "17c6e893-f047-4ec7-e8a9-fb4c608f9adc"
      },
      "execution_count": 21,
      "outputs": [
        {
          "output_type": "stream",
          "name": "stdout",
          "text": [
            "{2, 3}\n"
          ]
        }
      ]
    },
    {
      "cell_type": "code",
      "source": [
        "#intersection_updata()\n",
        "et1 = {1, 2, 3}\n",
        "set2 = {2, 3, 4}\n",
        "set1.intersection_update(set2)\n",
        "print(set1)"
      ],
      "metadata": {
        "colab": {
          "base_uri": "https://localhost:8080/"
        },
        "id": "7a3QJkg9aYO5",
        "outputId": "450b562a-79fb-49f3-bb45-21ed0c3dcbda"
      },
      "execution_count": 22,
      "outputs": [
        {
          "output_type": "stream",
          "name": "stdout",
          "text": [
            "{2, 3}\n"
          ]
        }
      ]
    },
    {
      "cell_type": "code",
      "source": [
        "#isdisjoint()\n",
        "set1 = {1, 2}\n",
        "set2 = {3, 4}\n",
        "print(set1.isdisjoint(set2))"
      ],
      "metadata": {
        "colab": {
          "base_uri": "https://localhost:8080/"
        },
        "id": "0pvUOyYBaYMy",
        "outputId": "1d52d55d-9dcd-49d7-e6ea-1510d06d80b0"
      },
      "execution_count": 23,
      "outputs": [
        {
          "output_type": "stream",
          "name": "stdout",
          "text": [
            "True\n"
          ]
        }
      ]
    },
    {
      "cell_type": "code",
      "source": [
        "#issubset\n",
        "set1 = {1, 2}\n",
        "set2 = {1, 2, 3, 4}\n",
        "print(set1.issubset(set2))"
      ],
      "metadata": {
        "colab": {
          "base_uri": "https://localhost:8080/"
        },
        "id": "nRpI9rLsaYKp",
        "outputId": "25d27daf-36af-43b6-ea1d-5e09869ade9b"
      },
      "execution_count": 24,
      "outputs": [
        {
          "output_type": "stream",
          "name": "stdout",
          "text": [
            "True\n"
          ]
        }
      ]
    },
    {
      "cell_type": "code",
      "source": [
        "#issuperset()\n",
        "set1 = {1, 2, 3, 4}\n",
        "set2 = {1, 2}\n",
        "print(set1.issuperset(set2))"
      ],
      "metadata": {
        "colab": {
          "base_uri": "https://localhost:8080/"
        },
        "id": "0s-bBi5xaYIZ",
        "outputId": "810e5567-1407-4f20-f186-1673dfc4998e"
      },
      "execution_count": 25,
      "outputs": [
        {
          "output_type": "stream",
          "name": "stdout",
          "text": [
            "True\n"
          ]
        }
      ]
    },
    {
      "cell_type": "code",
      "source": [
        "#pop\n",
        "my_set = {1, 2, 3}\n",
        "removed_item = my_set.pop()\n",
        "print(removed_item)"
      ],
      "metadata": {
        "colab": {
          "base_uri": "https://localhost:8080/"
        },
        "id": "X6CLgg9qaYGQ",
        "outputId": "31d36932-81d6-471b-8322-53c9f38cba7a"
      },
      "execution_count": 26,
      "outputs": [
        {
          "output_type": "stream",
          "name": "stdout",
          "text": [
            "1\n"
          ]
        }
      ]
    },
    {
      "cell_type": "code",
      "source": [
        "#remove\n",
        "my_set = {1, 2, 3}\n",
        "my_set.remove(2)\n",
        "print(my_set)"
      ],
      "metadata": {
        "colab": {
          "base_uri": "https://localhost:8080/"
        },
        "id": "X6HfAjfbXQb0",
        "outputId": "a8e1331e-8d18-42cb-ac54-22fcef13c10b"
      },
      "execution_count": 27,
      "outputs": [
        {
          "output_type": "stream",
          "name": "stdout",
          "text": [
            "{1, 3}\n"
          ]
        }
      ]
    },
    {
      "cell_type": "code",
      "source": [
        "#symmetric_difference\n",
        "set1 = {1, 2, 3}\n",
        "set2 = {2, 3, 4}\n",
        "print(set1.symmetric_difference(set2))"
      ],
      "metadata": {
        "colab": {
          "base_uri": "https://localhost:8080/"
        },
        "id": "usZpAgedbTSw",
        "outputId": "56b5700f-f47d-4658-bf3d-db6254310942"
      },
      "execution_count": 28,
      "outputs": [
        {
          "output_type": "stream",
          "name": "stdout",
          "text": [
            "{1, 4}\n"
          ]
        }
      ]
    },
    {
      "cell_type": "code",
      "source": [
        "#symmetric_difference_update()\n",
        "set1 = {1, 2, 3}\n",
        "set2 = {2, 3, 4}\n",
        "set1.symmetric_difference_update(set2)\n",
        "print(set1)"
      ],
      "metadata": {
        "colab": {
          "base_uri": "https://localhost:8080/"
        },
        "id": "UdRwZpmpbTOP",
        "outputId": "a89f8673-f3bd-4842-b2f6-7f2b814d658a"
      },
      "execution_count": 30,
      "outputs": [
        {
          "output_type": "stream",
          "name": "stdout",
          "text": [
            "{1, 4}\n"
          ]
        }
      ]
    },
    {
      "cell_type": "code",
      "source": [
        "#union\n",
        "set1 = {1, 2}\n",
        "set2 = {3, 4}\n",
        "print(set1.union(set2))"
      ],
      "metadata": {
        "colab": {
          "base_uri": "https://localhost:8080/"
        },
        "id": "IfOJn432bTJf",
        "outputId": "ed65a500-4f32-4d45-cf9d-f88e3a88fdbb"
      },
      "execution_count": 31,
      "outputs": [
        {
          "output_type": "stream",
          "name": "stdout",
          "text": [
            "{1, 2, 3, 4}\n"
          ]
        }
      ]
    },
    {
      "cell_type": "code",
      "source": [
        "#update\n",
        "set1 = {1, 2}\n",
        "set2 = {3, 4}\n",
        "set1.update(set2)\n",
        "print(set1)"
      ],
      "metadata": {
        "colab": {
          "base_uri": "https://localhost:8080/"
        },
        "id": "eo6tGkGqbeS2",
        "outputId": "034c15fe-cf87-462e-d4c0-31dd58c24057"
      },
      "execution_count": 32,
      "outputs": [
        {
          "output_type": "stream",
          "name": "stdout",
          "text": [
            "{1, 2, 3, 4}\n"
          ]
        }
      ]
    }
  ]
}