{
  "nbformat": 4,
  "nbformat_minor": 0,
  "metadata": {
    "colab": {
      "provenance": []
    },
    "kernelspec": {
      "name": "python3",
      "display_name": "Python 3"
    },
    "language_info": {
      "name": "python"
    }
  },
  "cells": [
    {
      "cell_type": "code",
      "source": [
        "years = [1970, 1980, 1990, 2000]\n",
        "\n",
        "population = {\n",
        "    \"서울\": [5380, 8290, 10360, 19850],\n",
        "    \"포항\": [2950, 2600, 2050, 1500],\n",
        "    \"부산\": [3344, 3053, 2834, 2555]\n",
        "}\n",
        "\n",
        "print(\"인구 변화율\")\n",
        "\n",
        "print(\"서울:\")\n",
        "for i in range(1, len(population[\"서울\"])):\n",
        "    before = population[\"서울\"][i - 1]\n",
        "    after = population[\"서울\"][i]\n",
        "    change = ((after - before) / before) * 100\n",
        "    year_index = i - 1\n",
        "\n",
        "print(\"포항:\")\n",
        "for i in range(1, len(population[\"포항\"])):\n",
        "    before = population[\"포항\"][i - 1]\n",
        "    after = population[\"포항\"][i]\n",
        "    change = ((after - before) / before) * 100\n",
        "    year_index = i - 1\n",
        "\n",
        "print(\"부산:\")\n",
        "for i in range(1, len(population[\"부산\"])):\n",
        "    before = population[\"부산\"][i - 1]\n",
        "    after = population[\"부산\"][i]\n",
        "    change = ((after - before) / before) * 100\n",
        "    year_index = i - 1\n"
      ],
      "metadata": {
        "colab": {
          "base_uri": "https://localhost:8080/"
        },
        "id": "zV0B8LCCBbF1",
        "outputId": "7d9103b3-7753-4ac6-ad0e-6070d306959d"
      },
      "execution_count": 16,
      "outputs": [
        {
          "output_type": "stream",
          "name": "stdout",
          "text": [
            "인구 변화율\n",
            "서울:\n",
            "포항:\n",
            "부산:\n"
          ]
        }
      ]
    },
    {
      "cell_type": "code",
      "source": [],
      "metadata": {
        "id": "os0DUJVpCUov"
      },
      "execution_count": null,
      "outputs": []
    }
  ]
}