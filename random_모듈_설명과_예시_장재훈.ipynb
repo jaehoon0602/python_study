{
  "nbformat": 4,
  "nbformat_minor": 0,
  "metadata": {
    "colab": {
      "provenance": []
    },
    "kernelspec": {
      "name": "python3",
      "display_name": "Python 3"
    },
    "language_info": {
      "name": "python"
    }
  },
  "cells": [
    {
      "cell_type": "code",
      "execution_count": 20,
      "metadata": {
        "colab": {
          "base_uri": "https://localhost:8080/",
          "height": 707
        },
        "id": "7YqM13qrfQQt",
        "outputId": "fadab07a-6d77-4ea5-eba1-00fde1992ca4"
      },
      "outputs": [
        {
          "output_type": "execute_result",
          "data": {
            "text/plain": [
              "                                함수  \\\n",
              "0          seed(a=None, version=2)   \n",
              "1                       getstate()   \n",
              "2                  setstate(state)   \n",
              "3                   getrandbits(k)   \n",
              "4   randrange(start, stop[, step])   \n",
              "5                    randint(a, b)   \n",
              "6                      choice(seq)   \n",
              "7                     shuffle(seq)   \n",
              "8            sample(population, k)   \n",
              "9                         random()   \n",
              "10                   uniform(a, b)   \n",
              "11     triangular(low, high, mode)   \n",
              "12        betavariate(alpha, beta)   \n",
              "13              expovariate(lambd)   \n",
              "14       gammavariate(alpha, beta)   \n",
              "15                gauss(mu, sigma)   \n",
              "16       lognormvariate(mu, sigma)   \n",
              "17        normalvariate(mu, sigma)   \n",
              "18      vonmisesvariate(mu, kappa)   \n",
              "19            paretovariate(alpha)   \n",
              "20     weibullvariate(alpha, beta)   \n",
              "\n",
              "                                               설명  \n",
              "0                                     난수 생성기를 초기화  \n",
              "1                        현재 난수 생성기의 내부 상태를 객체로 반환  \n",
              "2                                       내부 상태를 복원  \n",
              "3                                k 비트의 임의의 정수를 반환  \n",
              "4                             주어진 범위에서 임의의 정수를 반환  \n",
              "5                               a 이상 b 이하의 정수를 반환  \n",
              "6                        비어있지 않은 시퀀스에서 임의의 요소를 반환  \n",
              "7                                    시퀀스를 무작위로 섞음  \n",
              "8                  모집단에서 중복 없이 k개의 요소를 뽑아 리스트로 반환  \n",
              "9                      0.0 이상 1.0 미만의 부동소수점 수를 반환  \n",
              "10                     a 이상 b 이하의 임의의 부동소수점 수를 반환  \n",
              "11  low 이상 high 이하의 값 중 mode 중심으로 임의의 부동소수점 수를 반환  \n",
              "12                              베타 분포를 따르는 난수를 반환  \n",
              "13                              지수 분포를 따르는 난수를 반환  \n",
              "14                              감마 분포를 따르는 난수를 반환  \n",
              "15                        가우시안(정규) 분포를 따르는 난수를 반환  \n",
              "16                           로그 정규 분포를 따르는 난수를 반환  \n",
              "17                              정규 분포를 따르는 난수를 반환  \n",
              "18                            폰미제스 분포를 따르는 난수를 반환  \n",
              "19                             파레토 분포를 따르는 난수를 반환  \n",
              "20                             와이블 분포를 따르는 난수를 반환  "
            ],
            "text/html": [
              "\n",
              "  <div id=\"df-21bc4049-464c-427c-a3fc-1174c4e80f02\" class=\"colab-df-container\">\n",
              "    <div>\n",
              "<style scoped>\n",
              "    .dataframe tbody tr th:only-of-type {\n",
              "        vertical-align: middle;\n",
              "    }\n",
              "\n",
              "    .dataframe tbody tr th {\n",
              "        vertical-align: top;\n",
              "    }\n",
              "\n",
              "    .dataframe thead th {\n",
              "        text-align: right;\n",
              "    }\n",
              "</style>\n",
              "<table border=\"1\" class=\"dataframe\">\n",
              "  <thead>\n",
              "    <tr style=\"text-align: right;\">\n",
              "      <th></th>\n",
              "      <th>함수</th>\n",
              "      <th>설명</th>\n",
              "    </tr>\n",
              "  </thead>\n",
              "  <tbody>\n",
              "    <tr>\n",
              "      <th>0</th>\n",
              "      <td>seed(a=None, version=2)</td>\n",
              "      <td>난수 생성기를 초기화</td>\n",
              "    </tr>\n",
              "    <tr>\n",
              "      <th>1</th>\n",
              "      <td>getstate()</td>\n",
              "      <td>현재 난수 생성기의 내부 상태를 객체로 반환</td>\n",
              "    </tr>\n",
              "    <tr>\n",
              "      <th>2</th>\n",
              "      <td>setstate(state)</td>\n",
              "      <td>내부 상태를 복원</td>\n",
              "    </tr>\n",
              "    <tr>\n",
              "      <th>3</th>\n",
              "      <td>getrandbits(k)</td>\n",
              "      <td>k 비트의 임의의 정수를 반환</td>\n",
              "    </tr>\n",
              "    <tr>\n",
              "      <th>4</th>\n",
              "      <td>randrange(start, stop[, step])</td>\n",
              "      <td>주어진 범위에서 임의의 정수를 반환</td>\n",
              "    </tr>\n",
              "    <tr>\n",
              "      <th>5</th>\n",
              "      <td>randint(a, b)</td>\n",
              "      <td>a 이상 b 이하의 정수를 반환</td>\n",
              "    </tr>\n",
              "    <tr>\n",
              "      <th>6</th>\n",
              "      <td>choice(seq)</td>\n",
              "      <td>비어있지 않은 시퀀스에서 임의의 요소를 반환</td>\n",
              "    </tr>\n",
              "    <tr>\n",
              "      <th>7</th>\n",
              "      <td>shuffle(seq)</td>\n",
              "      <td>시퀀스를 무작위로 섞음</td>\n",
              "    </tr>\n",
              "    <tr>\n",
              "      <th>8</th>\n",
              "      <td>sample(population, k)</td>\n",
              "      <td>모집단에서 중복 없이 k개의 요소를 뽑아 리스트로 반환</td>\n",
              "    </tr>\n",
              "    <tr>\n",
              "      <th>9</th>\n",
              "      <td>random()</td>\n",
              "      <td>0.0 이상 1.0 미만의 부동소수점 수를 반환</td>\n",
              "    </tr>\n",
              "    <tr>\n",
              "      <th>10</th>\n",
              "      <td>uniform(a, b)</td>\n",
              "      <td>a 이상 b 이하의 임의의 부동소수점 수를 반환</td>\n",
              "    </tr>\n",
              "    <tr>\n",
              "      <th>11</th>\n",
              "      <td>triangular(low, high, mode)</td>\n",
              "      <td>low 이상 high 이하의 값 중 mode 중심으로 임의의 부동소수점 수를 반환</td>\n",
              "    </tr>\n",
              "    <tr>\n",
              "      <th>12</th>\n",
              "      <td>betavariate(alpha, beta)</td>\n",
              "      <td>베타 분포를 따르는 난수를 반환</td>\n",
              "    </tr>\n",
              "    <tr>\n",
              "      <th>13</th>\n",
              "      <td>expovariate(lambd)</td>\n",
              "      <td>지수 분포를 따르는 난수를 반환</td>\n",
              "    </tr>\n",
              "    <tr>\n",
              "      <th>14</th>\n",
              "      <td>gammavariate(alpha, beta)</td>\n",
              "      <td>감마 분포를 따르는 난수를 반환</td>\n",
              "    </tr>\n",
              "    <tr>\n",
              "      <th>15</th>\n",
              "      <td>gauss(mu, sigma)</td>\n",
              "      <td>가우시안(정규) 분포를 따르는 난수를 반환</td>\n",
              "    </tr>\n",
              "    <tr>\n",
              "      <th>16</th>\n",
              "      <td>lognormvariate(mu, sigma)</td>\n",
              "      <td>로그 정규 분포를 따르는 난수를 반환</td>\n",
              "    </tr>\n",
              "    <tr>\n",
              "      <th>17</th>\n",
              "      <td>normalvariate(mu, sigma)</td>\n",
              "      <td>정규 분포를 따르는 난수를 반환</td>\n",
              "    </tr>\n",
              "    <tr>\n",
              "      <th>18</th>\n",
              "      <td>vonmisesvariate(mu, kappa)</td>\n",
              "      <td>폰미제스 분포를 따르는 난수를 반환</td>\n",
              "    </tr>\n",
              "    <tr>\n",
              "      <th>19</th>\n",
              "      <td>paretovariate(alpha)</td>\n",
              "      <td>파레토 분포를 따르는 난수를 반환</td>\n",
              "    </tr>\n",
              "    <tr>\n",
              "      <th>20</th>\n",
              "      <td>weibullvariate(alpha, beta)</td>\n",
              "      <td>와이블 분포를 따르는 난수를 반환</td>\n",
              "    </tr>\n",
              "  </tbody>\n",
              "</table>\n",
              "</div>\n",
              "    <div class=\"colab-df-buttons\">\n",
              "\n",
              "  <div class=\"colab-df-container\">\n",
              "    <button class=\"colab-df-convert\" onclick=\"convertToInteractive('df-21bc4049-464c-427c-a3fc-1174c4e80f02')\"\n",
              "            title=\"Convert this dataframe to an interactive table.\"\n",
              "            style=\"display:none;\">\n",
              "\n",
              "  <svg xmlns=\"http://www.w3.org/2000/svg\" height=\"24px\" viewBox=\"0 -960 960 960\">\n",
              "    <path d=\"M120-120v-720h720v720H120Zm60-500h600v-160H180v160Zm220 220h160v-160H400v160Zm0 220h160v-160H400v160ZM180-400h160v-160H180v160Zm440 0h160v-160H620v160ZM180-180h160v-160H180v160Zm440 0h160v-160H620v160Z\"/>\n",
              "  </svg>\n",
              "    </button>\n",
              "\n",
              "  <style>\n",
              "    .colab-df-container {\n",
              "      display:flex;\n",
              "      gap: 12px;\n",
              "    }\n",
              "\n",
              "    .colab-df-convert {\n",
              "      background-color: #E8F0FE;\n",
              "      border: none;\n",
              "      border-radius: 50%;\n",
              "      cursor: pointer;\n",
              "      display: none;\n",
              "      fill: #1967D2;\n",
              "      height: 32px;\n",
              "      padding: 0 0 0 0;\n",
              "      width: 32px;\n",
              "    }\n",
              "\n",
              "    .colab-df-convert:hover {\n",
              "      background-color: #E2EBFA;\n",
              "      box-shadow: 0px 1px 2px rgba(60, 64, 67, 0.3), 0px 1px 3px 1px rgba(60, 64, 67, 0.15);\n",
              "      fill: #174EA6;\n",
              "    }\n",
              "\n",
              "    .colab-df-buttons div {\n",
              "      margin-bottom: 4px;\n",
              "    }\n",
              "\n",
              "    [theme=dark] .colab-df-convert {\n",
              "      background-color: #3B4455;\n",
              "      fill: #D2E3FC;\n",
              "    }\n",
              "\n",
              "    [theme=dark] .colab-df-convert:hover {\n",
              "      background-color: #434B5C;\n",
              "      box-shadow: 0px 1px 3px 1px rgba(0, 0, 0, 0.15);\n",
              "      filter: drop-shadow(0px 1px 2px rgba(0, 0, 0, 0.3));\n",
              "      fill: #FFFFFF;\n",
              "    }\n",
              "  </style>\n",
              "\n",
              "    <script>\n",
              "      const buttonEl =\n",
              "        document.querySelector('#df-21bc4049-464c-427c-a3fc-1174c4e80f02 button.colab-df-convert');\n",
              "      buttonEl.style.display =\n",
              "        google.colab.kernel.accessAllowed ? 'block' : 'none';\n",
              "\n",
              "      async function convertToInteractive(key) {\n",
              "        const element = document.querySelector('#df-21bc4049-464c-427c-a3fc-1174c4e80f02');\n",
              "        const dataTable =\n",
              "          await google.colab.kernel.invokeFunction('convertToInteractive',\n",
              "                                                    [key], {});\n",
              "        if (!dataTable) return;\n",
              "\n",
              "        const docLinkHtml = 'Like what you see? Visit the ' +\n",
              "          '<a target=\"_blank\" href=https://colab.research.google.com/notebooks/data_table.ipynb>data table notebook</a>'\n",
              "          + ' to learn more about interactive tables.';\n",
              "        element.innerHTML = '';\n",
              "        dataTable['output_type'] = 'display_data';\n",
              "        await google.colab.output.renderOutput(dataTable, element);\n",
              "        const docLink = document.createElement('div');\n",
              "        docLink.innerHTML = docLinkHtml;\n",
              "        element.appendChild(docLink);\n",
              "      }\n",
              "    </script>\n",
              "  </div>\n",
              "\n",
              "\n",
              "<div id=\"df-5ec3774a-a15c-4ece-b6f5-079a311ba36a\">\n",
              "  <button class=\"colab-df-quickchart\" onclick=\"quickchart('df-5ec3774a-a15c-4ece-b6f5-079a311ba36a')\"\n",
              "            title=\"Suggest charts\"\n",
              "            style=\"display:none;\">\n",
              "\n",
              "<svg xmlns=\"http://www.w3.org/2000/svg\" height=\"24px\"viewBox=\"0 0 24 24\"\n",
              "     width=\"24px\">\n",
              "    <g>\n",
              "        <path d=\"M19 3H5c-1.1 0-2 .9-2 2v14c0 1.1.9 2 2 2h14c1.1 0 2-.9 2-2V5c0-1.1-.9-2-2-2zM9 17H7v-7h2v7zm4 0h-2V7h2v10zm4 0h-2v-4h2v4z\"/>\n",
              "    </g>\n",
              "</svg>\n",
              "  </button>\n",
              "\n",
              "<style>\n",
              "  .colab-df-quickchart {\n",
              "      --bg-color: #E8F0FE;\n",
              "      --fill-color: #1967D2;\n",
              "      --hover-bg-color: #E2EBFA;\n",
              "      --hover-fill-color: #174EA6;\n",
              "      --disabled-fill-color: #AAA;\n",
              "      --disabled-bg-color: #DDD;\n",
              "  }\n",
              "\n",
              "  [theme=dark] .colab-df-quickchart {\n",
              "      --bg-color: #3B4455;\n",
              "      --fill-color: #D2E3FC;\n",
              "      --hover-bg-color: #434B5C;\n",
              "      --hover-fill-color: #FFFFFF;\n",
              "      --disabled-bg-color: #3B4455;\n",
              "      --disabled-fill-color: #666;\n",
              "  }\n",
              "\n",
              "  .colab-df-quickchart {\n",
              "    background-color: var(--bg-color);\n",
              "    border: none;\n",
              "    border-radius: 50%;\n",
              "    cursor: pointer;\n",
              "    display: none;\n",
              "    fill: var(--fill-color);\n",
              "    height: 32px;\n",
              "    padding: 0;\n",
              "    width: 32px;\n",
              "  }\n",
              "\n",
              "  .colab-df-quickchart:hover {\n",
              "    background-color: var(--hover-bg-color);\n",
              "    box-shadow: 0 1px 2px rgba(60, 64, 67, 0.3), 0 1px 3px 1px rgba(60, 64, 67, 0.15);\n",
              "    fill: var(--button-hover-fill-color);\n",
              "  }\n",
              "\n",
              "  .colab-df-quickchart-complete:disabled,\n",
              "  .colab-df-quickchart-complete:disabled:hover {\n",
              "    background-color: var(--disabled-bg-color);\n",
              "    fill: var(--disabled-fill-color);\n",
              "    box-shadow: none;\n",
              "  }\n",
              "\n",
              "  .colab-df-spinner {\n",
              "    border: 2px solid var(--fill-color);\n",
              "    border-color: transparent;\n",
              "    border-bottom-color: var(--fill-color);\n",
              "    animation:\n",
              "      spin 1s steps(1) infinite;\n",
              "  }\n",
              "\n",
              "  @keyframes spin {\n",
              "    0% {\n",
              "      border-color: transparent;\n",
              "      border-bottom-color: var(--fill-color);\n",
              "      border-left-color: var(--fill-color);\n",
              "    }\n",
              "    20% {\n",
              "      border-color: transparent;\n",
              "      border-left-color: var(--fill-color);\n",
              "      border-top-color: var(--fill-color);\n",
              "    }\n",
              "    30% {\n",
              "      border-color: transparent;\n",
              "      border-left-color: var(--fill-color);\n",
              "      border-top-color: var(--fill-color);\n",
              "      border-right-color: var(--fill-color);\n",
              "    }\n",
              "    40% {\n",
              "      border-color: transparent;\n",
              "      border-right-color: var(--fill-color);\n",
              "      border-top-color: var(--fill-color);\n",
              "    }\n",
              "    60% {\n",
              "      border-color: transparent;\n",
              "      border-right-color: var(--fill-color);\n",
              "    }\n",
              "    80% {\n",
              "      border-color: transparent;\n",
              "      border-right-color: var(--fill-color);\n",
              "      border-bottom-color: var(--fill-color);\n",
              "    }\n",
              "    90% {\n",
              "      border-color: transparent;\n",
              "      border-bottom-color: var(--fill-color);\n",
              "    }\n",
              "  }\n",
              "</style>\n",
              "\n",
              "  <script>\n",
              "    async function quickchart(key) {\n",
              "      const quickchartButtonEl =\n",
              "        document.querySelector('#' + key + ' button');\n",
              "      quickchartButtonEl.disabled = true;  // To prevent multiple clicks.\n",
              "      quickchartButtonEl.classList.add('colab-df-spinner');\n",
              "      try {\n",
              "        const charts = await google.colab.kernel.invokeFunction(\n",
              "            'suggestCharts', [key], {});\n",
              "      } catch (error) {\n",
              "        console.error('Error during call to suggestCharts:', error);\n",
              "      }\n",
              "      quickchartButtonEl.classList.remove('colab-df-spinner');\n",
              "      quickchartButtonEl.classList.add('colab-df-quickchart-complete');\n",
              "    }\n",
              "    (() => {\n",
              "      let quickchartButtonEl =\n",
              "        document.querySelector('#df-5ec3774a-a15c-4ece-b6f5-079a311ba36a button');\n",
              "      quickchartButtonEl.style.display =\n",
              "        google.colab.kernel.accessAllowed ? 'block' : 'none';\n",
              "    })();\n",
              "  </script>\n",
              "</div>\n",
              "\n",
              "  <div id=\"id_a62f5d38-9b19-40a8-a485-026748575279\">\n",
              "    <style>\n",
              "      .colab-df-generate {\n",
              "        background-color: #E8F0FE;\n",
              "        border: none;\n",
              "        border-radius: 50%;\n",
              "        cursor: pointer;\n",
              "        display: none;\n",
              "        fill: #1967D2;\n",
              "        height: 32px;\n",
              "        padding: 0 0 0 0;\n",
              "        width: 32px;\n",
              "      }\n",
              "\n",
              "      .colab-df-generate:hover {\n",
              "        background-color: #E2EBFA;\n",
              "        box-shadow: 0px 1px 2px rgba(60, 64, 67, 0.3), 0px 1px 3px 1px rgba(60, 64, 67, 0.15);\n",
              "        fill: #174EA6;\n",
              "      }\n",
              "\n",
              "      [theme=dark] .colab-df-generate {\n",
              "        background-color: #3B4455;\n",
              "        fill: #D2E3FC;\n",
              "      }\n",
              "\n",
              "      [theme=dark] .colab-df-generate:hover {\n",
              "        background-color: #434B5C;\n",
              "        box-shadow: 0px 1px 3px 1px rgba(0, 0, 0, 0.15);\n",
              "        filter: drop-shadow(0px 1px 2px rgba(0, 0, 0, 0.3));\n",
              "        fill: #FFFFFF;\n",
              "      }\n",
              "    </style>\n",
              "    <button class=\"colab-df-generate\" onclick=\"generateWithVariable('df')\"\n",
              "            title=\"Generate code using this dataframe.\"\n",
              "            style=\"display:none;\">\n",
              "\n",
              "  <svg xmlns=\"http://www.w3.org/2000/svg\" height=\"24px\"viewBox=\"0 0 24 24\"\n",
              "       width=\"24px\">\n",
              "    <path d=\"M7,19H8.4L18.45,9,17,7.55,7,17.6ZM5,21V16.75L18.45,3.32a2,2,0,0,1,2.83,0l1.4,1.43a1.91,1.91,0,0,1,.58,1.4,1.91,1.91,0,0,1-.58,1.4L9.25,21ZM18.45,9,17,7.55Zm-12,3A5.31,5.31,0,0,0,4.9,8.1,5.31,5.31,0,0,0,1,6.5,5.31,5.31,0,0,0,4.9,4.9,5.31,5.31,0,0,0,6.5,1,5.31,5.31,0,0,0,8.1,4.9,5.31,5.31,0,0,0,12,6.5,5.46,5.46,0,0,0,6.5,12Z\"/>\n",
              "  </svg>\n",
              "    </button>\n",
              "    <script>\n",
              "      (() => {\n",
              "      const buttonEl =\n",
              "        document.querySelector('#id_a62f5d38-9b19-40a8-a485-026748575279 button.colab-df-generate');\n",
              "      buttonEl.style.display =\n",
              "        google.colab.kernel.accessAllowed ? 'block' : 'none';\n",
              "\n",
              "      buttonEl.onclick = () => {\n",
              "        google.colab.notebook.generateWithVariable('df');\n",
              "      }\n",
              "      })();\n",
              "    </script>\n",
              "  </div>\n",
              "\n",
              "    </div>\n",
              "  </div>\n"
            ],
            "application/vnd.google.colaboratory.intrinsic+json": {
              "type": "dataframe",
              "variable_name": "df",
              "summary": "{\n  \"name\": \"df\",\n  \"rows\": 21,\n  \"fields\": [\n    {\n      \"column\": \"\\ud568\\uc218\",\n      \"properties\": {\n        \"dtype\": \"string\",\n        \"num_unique_values\": 21,\n        \"samples\": [\n          \"seed(a=None, version=2)\",\n          \"normalvariate(mu, sigma)\",\n          \"gauss(mu, sigma)\"\n        ],\n        \"semantic_type\": \"\",\n        \"description\": \"\"\n      }\n    },\n    {\n      \"column\": \"\\uc124\\uba85\",\n      \"properties\": {\n        \"dtype\": \"string\",\n        \"num_unique_values\": 21,\n        \"samples\": [\n          \"\\ub09c\\uc218 \\uc0dd\\uc131\\uae30\\ub97c \\ucd08\\uae30\\ud654\",\n          \"\\uc815\\uaddc \\ubd84\\ud3ec\\ub97c \\ub530\\ub974\\ub294 \\ub09c\\uc218\\ub97c \\ubc18\\ud658\",\n          \"\\uac00\\uc6b0\\uc2dc\\uc548(\\uc815\\uaddc) \\ubd84\\ud3ec\\ub97c \\ub530\\ub974\\ub294 \\ub09c\\uc218\\ub97c \\ubc18\\ud658\"\n        ],\n        \"semantic_type\": \"\",\n        \"description\": \"\"\n      }\n    }\n  ]\n}"
            }
          },
          "metadata": {},
          "execution_count": 20
        }
      ],
      "source": [
        "import pandas as pd\n",
        "\n",
        "data = {\n",
        "    \"함수\": [\n",
        "        \"seed(a=None, version=2)\",\n",
        "        \"getstate()\",\n",
        "        \"setstate(state)\",\n",
        "        \"getrandbits(k)\",\n",
        "        \"randrange(start, stop[, step])\",\n",
        "        \"randint(a, b)\",\n",
        "        \"choice(seq)\",\n",
        "        \"shuffle(seq)\",\n",
        "        \"sample(population, k)\",\n",
        "        \"random()\",\n",
        "        \"uniform(a, b)\",\n",
        "        \"triangular(low, high, mode)\",\n",
        "        \"betavariate(alpha, beta)\",\n",
        "        \"expovariate(lambd)\",\n",
        "        \"gammavariate(alpha, beta)\",\n",
        "        \"gauss(mu, sigma)\",\n",
        "        \"lognormvariate(mu, sigma)\",\n",
        "        \"normalvariate(mu, sigma)\",\n",
        "        \"vonmisesvariate(mu, kappa)\",\n",
        "        \"paretovariate(alpha)\",\n",
        "        \"weibullvariate(alpha, beta)\",\n",
        "    ],\n",
        "    \"설명\": [\n",
        "        \"난수 생성기를 초기화\",\n",
        "        \"현재 난수 생성기의 내부 상태를 객체로 반환\",\n",
        "        \"내부 상태를 복원\",\n",
        "        \"k 비트의 임의의 정수를 반환\",\n",
        "        \"주어진 범위에서 임의의 정수를 반환\",\n",
        "        \"a 이상 b 이하의 정수를 반환\",\n",
        "        \"비어있지 않은 시퀀스에서 임의의 요소를 반환\",\n",
        "        \"시퀀스를 무작위로 섞음\",\n",
        "        \"모집단에서 중복 없이 k개의 요소를 뽑아 리스트로 반환\",\n",
        "        \"0.0 이상 1.0 미만의 부동소수점 수를 반환\",\n",
        "        \"a 이상 b 이하의 임의의 부동소수점 수를 반환\",\n",
        "        \"low 이상 high 이하의 값 중 mode 중심으로 임의의 부동소수점 수를 반환\",\n",
        "        \"베타 분포를 따르는 난수를 반환\",\n",
        "        \"지수 분포를 따르는 난수를 반환\",\n",
        "        \"감마 분포를 따르는 난수를 반환\",\n",
        "        \"가우시안(정규) 분포를 따르는 난수를 반환\",\n",
        "        \"로그 정규 분포를 따르는 난수를 반환\",\n",
        "        \"정규 분포를 따르는 난수를 반환\",\n",
        "        \"폰미제스 분포를 따르는 난수를 반환\",\n",
        "        \"파레토 분포를 따르는 난수를 반환\",\n",
        "        \"와이블 분포를 따르는 난수를 반환\",\n",
        "    ]\n",
        "}\n",
        "\n",
        "df = pd.DataFrame(data)\n",
        "\n",
        "df\n"
      ]
    },
    {
      "cell_type": "code",
      "source": [
        "#seed\n",
        "import random\n",
        "\n",
        "random.seed(42)\n",
        "print(random.randint(1, 100))"
      ],
      "metadata": {
        "colab": {
          "base_uri": "https://localhost:8080/"
        },
        "id": "aOyIN_Hpmczo",
        "outputId": "f09ff6ea-f343-455e-e398-7fe2cde78136"
      },
      "execution_count": 35,
      "outputs": [
        {
          "output_type": "stream",
          "name": "stdout",
          "text": [
            "82\n"
          ]
        }
      ]
    },
    {
      "cell_type": "code",
      "source": [
        "#getstate\n",
        "\n",
        "import random\n",
        "\n",
        "state = random.getstate()\n",
        "print(\"First chosen animal:\", random.choice(['Dog', 'Cat', 'Elephant']))\n"
      ],
      "metadata": {
        "colab": {
          "base_uri": "https://localhost:8080/"
        },
        "id": "Die_4oxtmcxA",
        "outputId": "820daa9c-3788-4571-ab3e-eaa15631b211"
      },
      "execution_count": 29,
      "outputs": [
        {
          "output_type": "stream",
          "name": "stdout",
          "text": [
            "First chosen animal: Dog\n"
          ]
        }
      ]
    },
    {
      "cell_type": "code",
      "source": [
        "#setstate\n",
        "import random\n",
        "\n",
        "random.setstate(state)\n",
        "print(\"Same animal chosen again:\", random.choice(['Dog', 'Cat', 'Elephant']))\n"
      ],
      "metadata": {
        "colab": {
          "base_uri": "https://localhost:8080/"
        },
        "id": "bsnPRG4NmcuO",
        "outputId": "9fd17ea5-e319-401a-e6c4-92ce369be8e0"
      },
      "execution_count": 34,
      "outputs": [
        {
          "output_type": "stream",
          "name": "stdout",
          "text": [
            "Same animal chosen again: Dog\n"
          ]
        }
      ]
    },
    {
      "cell_type": "code",
      "source": [
        "#getrandbits\n",
        "import random\n",
        "\n",
        "print(random.getrandbits(10))"
      ],
      "metadata": {
        "colab": {
          "base_uri": "https://localhost:8080/"
        },
        "id": "a8PKLoUGnudd",
        "outputId": "9a301d92-f0b9-4159-ab13-19b93db82879"
      },
      "execution_count": 40,
      "outputs": [
        {
          "output_type": "stream",
          "name": "stdout",
          "text": [
            "89\n"
          ]
        }
      ]
    },
    {
      "cell_type": "code",
      "source": [
        "#randrange\n",
        "import random\n",
        "\n",
        "print(random.randrange(0, 1024))"
      ],
      "metadata": {
        "colab": {
          "base_uri": "https://localhost:8080/"
        },
        "id": "ZFaQ665NmcrI",
        "outputId": "84b96eb7-97a9-4fec-a13d-53e562b1196f"
      },
      "execution_count": 41,
      "outputs": [
        {
          "output_type": "stream",
          "name": "stdout",
          "text": [
            "864\n"
          ]
        }
      ]
    },
    {
      "cell_type": "code",
      "source": [
        "#randint\n",
        "import random\n",
        "\n",
        "print(random.randint(8, 21))"
      ],
      "metadata": {
        "colab": {
          "base_uri": "https://localhost:8080/"
        },
        "id": "BUzQ1W2cmcnv",
        "outputId": "9f6a09ea-a38c-4964-939b-f1312cac87ed"
      },
      "execution_count": 43,
      "outputs": [
        {
          "output_type": "stream",
          "name": "stdout",
          "text": [
            "8\n"
          ]
        }
      ]
    },
    {
      "cell_type": "code",
      "source": [
        "#choice\n",
        "import random\n",
        "\n",
        "colors = [\"red\", \"blue\"]\n",
        "result = random.choices(colors, weights=[3, 1], k=5)\n",
        "print(result)\n"
      ],
      "metadata": {
        "colab": {
          "base_uri": "https://localhost:8080/"
        },
        "id": "2NMPUqCCmckW",
        "outputId": "eedc56ab-7349-45aa-f0af-a8ae56732760"
      },
      "execution_count": 44,
      "outputs": [
        {
          "output_type": "stream",
          "name": "stdout",
          "text": [
            "['red', 'red', 'red', 'red', 'red']\n"
          ]
        }
      ]
    },
    {
      "cell_type": "code",
      "source": [
        "#shuffle\n",
        "import random\n",
        "\n",
        "numbers = [1, 2, 3, 4, 5]\n",
        "random.shuffle(numbers)\n",
        "print(numbers)\n"
      ],
      "metadata": {
        "colab": {
          "base_uri": "https://localhost:8080/"
        },
        "id": "Ea04KQBumcge",
        "outputId": "85834fa8-7d70-44bd-d3b0-f7f8892f27b2"
      },
      "execution_count": 45,
      "outputs": [
        {
          "output_type": "stream",
          "name": "stdout",
          "text": [
            "[3, 2, 1, 4, 5]\n"
          ]
        }
      ]
    },
    {
      "cell_type": "code",
      "source": [
        "#sample\n",
        "import random\n",
        "\n",
        "numbers = list(range(1, 11))\n",
        "picked = random.sample(numbers, 4)\n",
        "print(picked)"
      ],
      "metadata": {
        "colab": {
          "base_uri": "https://localhost:8080/"
        },
        "id": "eJRjo_6jmca7",
        "outputId": "a83b6064-0ac1-4272-9523-76a34c6567bf"
      },
      "execution_count": 46,
      "outputs": [
        {
          "output_type": "stream",
          "name": "stdout",
          "text": [
            "[10, 5, 1, 7]\n"
          ]
        }
      ]
    },
    {
      "cell_type": "code",
      "source": [
        "#random\n",
        "import random\n",
        "\n",
        "value = random.random()\n",
        "print(value)\n"
      ],
      "metadata": {
        "colab": {
          "base_uri": "https://localhost:8080/"
        },
        "id": "ycfCJgTUmcW3",
        "outputId": "ffedc1ac-fd61-4320-ba64-cfedaf5c0cba"
      },
      "execution_count": 47,
      "outputs": [
        {
          "output_type": "stream",
          "name": "stdout",
          "text": [
            "0.8058192518328079\n"
          ]
        }
      ]
    },
    {
      "cell_type": "code",
      "source": [
        "#uniform\n",
        "import random\n",
        "\n",
        "value = random.uniform(1.0, 5.0)\n",
        "print(value)\n"
      ],
      "metadata": {
        "colab": {
          "base_uri": "https://localhost:8080/"
        },
        "id": "humfz0qtmcTE",
        "outputId": "ccd6b21f-e997-4116-a1e0-8a735152e42e"
      },
      "execution_count": 48,
      "outputs": [
        {
          "output_type": "stream",
          "name": "stdout",
          "text": [
            "3.7925575799529074\n"
          ]
        }
      ]
    },
    {
      "cell_type": "code",
      "source": [
        "#triangular\n",
        "import random\n",
        "\n",
        "value = random.triangular(1.0, 5.0, 3.0)\n",
        "print(value)\n"
      ],
      "metadata": {
        "colab": {
          "base_uri": "https://localhost:8080/"
        },
        "id": "MitjW6-kmcPf",
        "outputId": "c8d3fe24-5340-42da-e020-07d71fce689c"
      },
      "execution_count": 49,
      "outputs": [
        {
          "output_type": "stream",
          "name": "stdout",
          "text": [
            "2.6498497301705797\n"
          ]
        }
      ]
    },
    {
      "cell_type": "code",
      "source": [
        "#betavariate\n",
        "import random\n",
        "\n",
        "value = random.betavariate(2, 5)\n",
        "print(value)\n"
      ],
      "metadata": {
        "colab": {
          "base_uri": "https://localhost:8080/"
        },
        "id": "9ZBWZjJEmcMj",
        "outputId": "ce156fbd-cbf5-41d2-957f-c40c855ed618"
      },
      "execution_count": 50,
      "outputs": [
        {
          "output_type": "stream",
          "name": "stdout",
          "text": [
            "0.15880511681843607\n"
          ]
        }
      ]
    },
    {
      "cell_type": "code",
      "source": [
        "#expovariate\n",
        "import random\n",
        "\n",
        "value = random.expovariate(1.5)\n",
        "print(value)\n"
      ],
      "metadata": {
        "colab": {
          "base_uri": "https://localhost:8080/"
        },
        "id": "fGuka5IvmcJb",
        "outputId": "9873cd57-f435-4ddb-cc8d-9cdf0b91f9b5"
      },
      "execution_count": 51,
      "outputs": [
        {
          "output_type": "stream",
          "name": "stdout",
          "text": [
            "0.06781245666375442\n"
          ]
        }
      ]
    },
    {
      "cell_type": "code",
      "source": [
        "#gammavariate\n",
        "import random\n",
        "\n",
        "print(random.gammavariate(2, 2))\n"
      ],
      "metadata": {
        "colab": {
          "base_uri": "https://localhost:8080/"
        },
        "id": "_Pt6v2MLmcGF",
        "outputId": "6459c481-29f7-4dd0-f012-aaeaff232980"
      },
      "execution_count": 52,
      "outputs": [
        {
          "output_type": "stream",
          "name": "stdout",
          "text": [
            "10.767128047822935\n"
          ]
        }
      ]
    },
    {
      "cell_type": "code",
      "source": [
        "#gauss\n",
        "import random\n",
        "\n",
        "print(random.gauss(2, 2))\n"
      ],
      "metadata": {
        "colab": {
          "base_uri": "https://localhost:8080/"
        },
        "id": "wcrTHVVhmcDJ",
        "outputId": "fbab750f-0c54-4909-9ba9-d761354e2040"
      },
      "execution_count": 53,
      "outputs": [
        {
          "output_type": "stream",
          "name": "stdout",
          "text": [
            "3.1365013751707718\n"
          ]
        }
      ]
    },
    {
      "cell_type": "code",
      "source": [
        "#lognormvariate\n",
        "import random\n",
        "\n",
        "print(random.lognormvariate(0, 1))\n",
        "\n"
      ],
      "metadata": {
        "colab": {
          "base_uri": "https://localhost:8080/"
        },
        "id": "h2JedbZQmb_6",
        "outputId": "2802c051-7f05-4d28-b4b7-54d46efae34f"
      },
      "execution_count": 54,
      "outputs": [
        {
          "output_type": "stream",
          "name": "stdout",
          "text": [
            "10.0923197161301\n"
          ]
        }
      ]
    },
    {
      "cell_type": "code",
      "source": [
        "#normalvariate\n",
        "import random\n",
        "\n",
        "print(random. normalvariate(0, 1))\n"
      ],
      "metadata": {
        "colab": {
          "base_uri": "https://localhost:8080/"
        },
        "id": "-0DWfa7Hmb9A",
        "outputId": "bd8d0082-39c7-4900-8bee-abc5c43adb30"
      },
      "execution_count": 55,
      "outputs": [
        {
          "output_type": "stream",
          "name": "stdout",
          "text": [
            "-0.4651708693628556\n"
          ]
        }
      ]
    },
    {
      "cell_type": "code",
      "source": [
        "#vonmisesvariate\n",
        "\n",
        "import random\n",
        "\n",
        "print(random. vonmisesvariate(0, 1))"
      ],
      "metadata": {
        "colab": {
          "base_uri": "https://localhost:8080/"
        },
        "id": "oJhHT1Ibmb51",
        "outputId": "5fc4aa27-1311-42dc-9b1b-012e7e2582b5"
      },
      "execution_count": 56,
      "outputs": [
        {
          "output_type": "stream",
          "name": "stdout",
          "text": [
            "2.1128359057709094\n"
          ]
        }
      ]
    },
    {
      "cell_type": "code",
      "source": [
        "#paretovariate\n",
        "import random\n",
        "\n",
        "print(random.paretovariate(2.5))\n"
      ],
      "metadata": {
        "colab": {
          "base_uri": "https://localhost:8080/"
        },
        "id": "9qKvh_hxmb2v",
        "outputId": "5bca41cf-1382-43cb-9f65-4ee5de463504"
      },
      "execution_count": 60,
      "outputs": [
        {
          "output_type": "stream",
          "name": "stdout",
          "text": [
            "1.4112648747349654\n"
          ]
        }
      ]
    },
    {
      "cell_type": "code",
      "source": [
        "#weibullvariate\n",
        "import random\n",
        "\n",
        "print(random.weibullvariate(1.5, 2.0))\n"
      ],
      "metadata": {
        "colab": {
          "base_uri": "https://localhost:8080/"
        },
        "id": "GkcHQgkCm9P3",
        "outputId": "ccd504a4-c46c-41ab-812f-72d39360faff"
      },
      "execution_count": 62,
      "outputs": [
        {
          "output_type": "stream",
          "name": "stdout",
          "text": [
            "1.6563488574444758\n"
          ]
        }
      ]
    }
  ]
}