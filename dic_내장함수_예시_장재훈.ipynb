{
  "nbformat": 4,
  "nbformat_minor": 0,
  "metadata": {
    "colab": {
      "provenance": [],
      "gpuType": "T4"
    },
    "kernelspec": {
      "name": "python3",
      "display_name": "Python 3"
    },
    "language_info": {
      "name": "python"
    },
    "accelerator": "GPU"
  },
  "cells": [
    {
      "cell_type": "code",
      "source": [
        "import pandas as pd\n",
        "\n",
        "data = {\n",
        "    \"메서드\": [\"clear()\", \"copy()\", \"fromkeys(seq[, v])\", \"get(key[, d])\", \"items()\", \"keys()\",\n",
        "             \"pop(key[, d])\", \"popitem()\", \"setdefault(key[, d])\", \"update([other])\", \"values()\"],\n",
        "    \"설명\": [\n",
        "        \"딕셔너리의 모든 항목을 제거.\",\n",
        "        \"딕셔너리의 얕은 복사본을 반환.\",\n",
        "        \"seq로부터 키를 가져오고 값은 v로 설정된 새로운 딕셔너리를 반환 \",\n",
        "        \"키의 값을 반환. 키가 존재하지 않으면 d를 반환\",\n",
        "        \"딕셔너리의 항목을 (key, value) 형식으로 새 객체로 반환.\",\n",
        "        \"딕셔너리의 키를 새 객체로 반환.\",\n",
        "        \"키에 해당하는 항목을 제거하고 그 값을 반환하거나 키가 없으면 d를 반환.\",\n",
        "        \"임의의 항목 (key, value)을 제거하고 반환. 딕셔너리가 비어 있으면 KeyError를 발생.\",\n",
        "        \"키가 딕셔너리에 있으면 해당 값을 반환하고, 없으면 키를 추가하고 값을 d로 설정한 뒤 반환.\",\n",
        "        \"다른 딕셔너리의 key/value 쌍으로 현재 딕셔너리를 업데이트.\",\n",
        "        \"딕셔너리 값의 새 객체를 반환.\"\n",
        "    ]\n",
        "}\n",
        "\n",
        "df = pd.DataFrame(data)\n",
        "\n",
        "\n",
        "from IPython.display import display\n",
        "display(df.style.hide(axis=\"index\"))\n"
      ],
      "metadata": {
        "id": "gvwyySO4KcLc",
        "colab": {
          "base_uri": "https://localhost:8080/",
          "height": 394
        },
        "outputId": "6b605570-7c41-4fab-f77d-67b6ad3620bb"
      },
      "execution_count": 27,
      "outputs": [
        {
          "output_type": "display_data",
          "data": {
            "text/plain": [
              "<pandas.io.formats.style.Styler at 0x7d42f9aad310>"
            ],
            "text/html": [
              "<style type=\"text/css\">\n",
              "</style>\n",
              "<table id=\"T_daac0\" class=\"dataframe\">\n",
              "  <thead>\n",
              "    <tr>\n",
              "      <th id=\"T_daac0_level0_col0\" class=\"col_heading level0 col0\" >메서드</th>\n",
              "      <th id=\"T_daac0_level0_col1\" class=\"col_heading level0 col1\" >설명</th>\n",
              "    </tr>\n",
              "  </thead>\n",
              "  <tbody>\n",
              "    <tr>\n",
              "      <td id=\"T_daac0_row0_col0\" class=\"data row0 col0\" >clear()</td>\n",
              "      <td id=\"T_daac0_row0_col1\" class=\"data row0 col1\" >딕셔너리의 모든 항목을 제거.</td>\n",
              "    </tr>\n",
              "    <tr>\n",
              "      <td id=\"T_daac0_row1_col0\" class=\"data row1 col0\" >copy()</td>\n",
              "      <td id=\"T_daac0_row1_col1\" class=\"data row1 col1\" >딕셔너리의 얕은 복사본을 반환.</td>\n",
              "    </tr>\n",
              "    <tr>\n",
              "      <td id=\"T_daac0_row2_col0\" class=\"data row2 col0\" >fromkeys(seq[, v])</td>\n",
              "      <td id=\"T_daac0_row2_col1\" class=\"data row2 col1\" >seq로부터 키를 가져오고 값은 v로 설정된 새로운 딕셔너리를 반환 </td>\n",
              "    </tr>\n",
              "    <tr>\n",
              "      <td id=\"T_daac0_row3_col0\" class=\"data row3 col0\" >get(key[, d])</td>\n",
              "      <td id=\"T_daac0_row3_col1\" class=\"data row3 col1\" >키의 값을 반환. 키가 존재하지 않으면 d를 반환</td>\n",
              "    </tr>\n",
              "    <tr>\n",
              "      <td id=\"T_daac0_row4_col0\" class=\"data row4 col0\" >items()</td>\n",
              "      <td id=\"T_daac0_row4_col1\" class=\"data row4 col1\" >딕셔너리의 항목을 (key, value) 형식으로 새 객체로 반환.</td>\n",
              "    </tr>\n",
              "    <tr>\n",
              "      <td id=\"T_daac0_row5_col0\" class=\"data row5 col0\" >keys()</td>\n",
              "      <td id=\"T_daac0_row5_col1\" class=\"data row5 col1\" >딕셔너리의 키를 새 객체로 반환.</td>\n",
              "    </tr>\n",
              "    <tr>\n",
              "      <td id=\"T_daac0_row6_col0\" class=\"data row6 col0\" >pop(key[, d])</td>\n",
              "      <td id=\"T_daac0_row6_col1\" class=\"data row6 col1\" >키에 해당하는 항목을 제거하고 그 값을 반환하거나 키가 없으면 d를 반환.</td>\n",
              "    </tr>\n",
              "    <tr>\n",
              "      <td id=\"T_daac0_row7_col0\" class=\"data row7 col0\" >popitem()</td>\n",
              "      <td id=\"T_daac0_row7_col1\" class=\"data row7 col1\" >임의의 항목 (key, value)을 제거하고 반환. 딕셔너리가 비어 있으면 KeyError를 발생.</td>\n",
              "    </tr>\n",
              "    <tr>\n",
              "      <td id=\"T_daac0_row8_col0\" class=\"data row8 col0\" >setdefault(key[, d])</td>\n",
              "      <td id=\"T_daac0_row8_col1\" class=\"data row8 col1\" >키가 딕셔너리에 있으면 해당 값을 반환하고, 없으면 키를 추가하고 값을 d로 설정한 뒤 반환.</td>\n",
              "    </tr>\n",
              "    <tr>\n",
              "      <td id=\"T_daac0_row9_col0\" class=\"data row9 col0\" >update([other])</td>\n",
              "      <td id=\"T_daac0_row9_col1\" class=\"data row9 col1\" >다른 딕셔너리의 key/value 쌍으로 현재 딕셔너리를 업데이트.</td>\n",
              "    </tr>\n",
              "    <tr>\n",
              "      <td id=\"T_daac0_row10_col0\" class=\"data row10 col0\" >values()</td>\n",
              "      <td id=\"T_daac0_row10_col1\" class=\"data row10 col1\" >딕셔너리 값의 새 객체를 반환.</td>\n",
              "    </tr>\n",
              "  </tbody>\n",
              "</table>\n"
            ]
          },
          "metadata": {}
        }
      ]
    },
    {
      "cell_type": "code",
      "source": [
        "#clear\n",
        "fruits = {\n",
        "    \"apple\": \"red\",\n",
        "    \"banana\": \"yellow\",\n",
        "    \"grape\": \"purple\"\n",
        "}\n",
        "\n",
        "fruits.clear()\n",
        "\n",
        "print(fruits)"
      ],
      "metadata": {
        "colab": {
          "base_uri": "https://localhost:8080/"
        },
        "id": "T-R3J1cJmFFJ",
        "outputId": "8bc3086e-0fc8-4bfc-a0c0-c8fb7ae25b77"
      },
      "execution_count": 13,
      "outputs": [
        {
          "output_type": "stream",
          "name": "stdout",
          "text": [
            "{}\n"
          ]
        }
      ]
    },
    {
      "cell_type": "code",
      "source": [
        "#copy\n",
        "fruits = {\n",
        "    \"apple\": \"red\",\n",
        "    \"banana\": \"yellow\",\n",
        "    \"grape\": \"purple\"\n",
        "}\n",
        "\n",
        "fruits_copy = fruits.copy()\n",
        "\n",
        "print(fruits_copy)"
      ],
      "metadata": {
        "colab": {
          "base_uri": "https://localhost:8080/"
        },
        "id": "OQMhlewZmFCJ",
        "outputId": "607abe72-1aff-4c71-939c-f248201e91da"
      },
      "execution_count": 14,
      "outputs": [
        {
          "output_type": "stream",
          "name": "stdout",
          "text": [
            "{'apple': 'red', 'banana': 'yellow', 'grape': 'purple'}\n"
          ]
        }
      ]
    },
    {
      "cell_type": "code",
      "source": [
        "#fromkeys\n",
        "fruits = [\"apple\", \"banana\", \"grape\"]\n",
        "\n",
        "fruit_dict = dict.fromkeys(fruits)\n",
        "\n",
        "print(fruit_dict)"
      ],
      "metadata": {
        "colab": {
          "base_uri": "https://localhost:8080/"
        },
        "id": "2AORBDeGmE_p",
        "outputId": "15af3918-af41-41b3-e397-1754b3c44fe6"
      },
      "execution_count": 15,
      "outputs": [
        {
          "output_type": "stream",
          "name": "stdout",
          "text": [
            "{'apple': None, 'banana': None, 'grape': None}\n"
          ]
        }
      ]
    },
    {
      "cell_type": "code",
      "source": [
        "#get\n",
        "fruits = {\"apple\": \"red\", \"banana\": \"yellow\", \"grape\": \"purple\"}\n",
        "\n",
        "color = fruits.get(\"apple\")\n",
        "print(color)"
      ],
      "metadata": {
        "colab": {
          "base_uri": "https://localhost:8080/"
        },
        "id": "J_UD-z7RmE3Z",
        "outputId": "88c9749b-0beb-4686-ba02-a08464664cb0"
      },
      "execution_count": 16,
      "outputs": [
        {
          "output_type": "stream",
          "name": "stdout",
          "text": [
            "red\n"
          ]
        }
      ]
    },
    {
      "cell_type": "code",
      "source": [
        "#items\n",
        "fruits = {\"apple\": \"red\", \"banana\": \"yellow\", \"grape\": \"purple\"}\n",
        "\n",
        "for key, value in fruits.items():\n",
        "    print(f\"{key} is {value}\")"
      ],
      "metadata": {
        "colab": {
          "base_uri": "https://localhost:8080/"
        },
        "id": "ROrXi1XQpGHa",
        "outputId": "db4a9928-c393-4015-ead8-848ba961b5e1"
      },
      "execution_count": 17,
      "outputs": [
        {
          "output_type": "stream",
          "name": "stdout",
          "text": [
            "apple is red\n",
            "banana is yellow\n",
            "grape is purple\n"
          ]
        }
      ]
    },
    {
      "cell_type": "code",
      "source": [
        "#keys\n",
        "fruits = {\"apple\": \"red\", \"banana\": \"yellow\", \"grape\": \"purple\"}\n",
        "\n",
        "print(fruits.keys())"
      ],
      "metadata": {
        "colab": {
          "base_uri": "https://localhost:8080/"
        },
        "id": "mzTszMCApGE8",
        "outputId": "fd0133d6-3183-49e9-ed9d-c079e1b348fc"
      },
      "execution_count": 18,
      "outputs": [
        {
          "output_type": "stream",
          "name": "stdout",
          "text": [
            "dict_keys(['apple', 'banana', 'grape'])\n"
          ]
        }
      ]
    },
    {
      "cell_type": "code",
      "source": [
        "#pop\n",
        "fruits = {\"apple\": \"red\", \"banana\": \"yellow\", \"grape\": \"purple\"}\n",
        "\n",
        "removed_value = fruits.pop(\"banana\")\n",
        "\n",
        "print(f\"Removed value: {removed_value}\")\n",
        "print(f\"Updated dictionary: {fruits}\")"
      ],
      "metadata": {
        "colab": {
          "base_uri": "https://localhost:8080/"
        },
        "id": "8Dw1AMT0pGCq",
        "outputId": "c953bc87-fddd-4672-e76a-6ef3f790f89d"
      },
      "execution_count": 19,
      "outputs": [
        {
          "output_type": "stream",
          "name": "stdout",
          "text": [
            "Removed value: yellow\n",
            "Updated dictionary: {'apple': 'red', 'grape': 'purple'}\n"
          ]
        }
      ]
    },
    {
      "cell_type": "code",
      "source": [
        "#popitem\n",
        "fruits = {\"apple\": \"red\", \"banana\": \"yellow\", \"grape\": \"purple\"}\n",
        "\n",
        "removed_item = fruits.popitem()\n",
        "\n",
        "print(f\"Removed item: {removed_item}\")\n",
        "print(f\"Updated dictionary: {fruits}\")"
      ],
      "metadata": {
        "colab": {
          "base_uri": "https://localhost:8080/"
        },
        "id": "PBNVO6tbmEyC",
        "outputId": "9e312e11-ccb3-4265-d656-f56f9386627a"
      },
      "execution_count": 20,
      "outputs": [
        {
          "output_type": "stream",
          "name": "stdout",
          "text": [
            "Removed item: ('grape', 'purple')\n",
            "Updated dictionary: {'apple': 'red', 'banana': 'yellow'}\n"
          ]
        }
      ]
    },
    {
      "cell_type": "code",
      "source": [
        "#setdefault\n",
        "fruits = {\"apple\": \"red\", \"banana\": \"yellow\"}\n",
        "\n",
        "color = fruits.setdefault(\"apple\", \"green\")\n",
        "\n",
        "print(f\"Returned value: {color}\")\n",
        "print(f\"Updated dictionary: {fruits}\")"
      ],
      "metadata": {
        "colab": {
          "base_uri": "https://localhost:8080/"
        },
        "id": "9jH-eIY-pnGC",
        "outputId": "474123fe-40a0-4e9f-9bff-f2ef618127fb"
      },
      "execution_count": 21,
      "outputs": [
        {
          "output_type": "stream",
          "name": "stdout",
          "text": [
            "Returned value: red\n",
            "Updated dictionary: {'apple': 'red', 'banana': 'yellow'}\n"
          ]
        }
      ]
    },
    {
      "cell_type": "code",
      "source": [
        "#update\n",
        "fruits = {\"apple\": \"red\", \"banana\": \"yellow\"}\n",
        "new_fruits = {\"grape\": \"purple\", \"banana\": \"green\"}\n",
        "\n",
        "fruits.update(new_fruits)\n",
        "\n",
        "print(fruits)"
      ],
      "metadata": {
        "colab": {
          "base_uri": "https://localhost:8080/"
        },
        "id": "Y3Jq8XmspnCx",
        "outputId": "54f200f2-5d2a-421b-a0d1-9b8189aa9071"
      },
      "execution_count": 22,
      "outputs": [
        {
          "output_type": "stream",
          "name": "stdout",
          "text": [
            "{'apple': 'red', 'banana': 'green', 'grape': 'purple'}\n"
          ]
        }
      ]
    },
    {
      "cell_type": "code",
      "source": [
        "#values\n",
        "fruits = {\"apple\": \"red\", \"banana\": \"yellow\", \"grape\": \"purple\"}\n",
        "\n",
        "fruit_colors = fruits.values()\n",
        "\n",
        "print(fruit_colors)\n",
        "print(list(fruit_colors))"
      ],
      "metadata": {
        "colab": {
          "base_uri": "https://localhost:8080/"
        },
        "id": "zTDCG1Pcpm_l",
        "outputId": "e40ccf26-15bd-419a-934b-de0ecae6829d"
      },
      "execution_count": 23,
      "outputs": [
        {
          "output_type": "stream",
          "name": "stdout",
          "text": [
            "dict_values(['red', 'yellow', 'purple'])\n",
            "['red', 'yellow', 'purple']\n"
          ]
        }
      ]
    },
    {
      "cell_type": "code",
      "source": [
        "import pandas as pd\n",
        "from IPython.display import display\n",
        "\n",
        "data = {\n",
        "    \"메서드\": [\"all()\", \"any()\", \"len()\", \"cmp()\", \"sorted()\"],\n",
        "    \"설명\": [\n",
        "        \"딕셔너리의 모든 키가 True이면 True를 반환 \",\n",
        "        \"딕셔너리의 키 중 하나라도 True이면 True를 반환. 딕셔너리가 비어 있으면 False 반환.\",\n",
        "        \"딕셔너리의 길이를 반환.\",\n",
        "        \"두 개의 딕셔너리 항목을 비교\",\n",
        "        \"딕셔너리의 키를 정렬한 새로운 리스트를 반환.\"\n",
        "    ]\n",
        "}\n",
        "\n",
        "\n",
        "df = pd.DataFrame(data)\n",
        "\n",
        "\n",
        "display(df.style.hide(axis=\"index\"))\n"
      ],
      "metadata": {
        "colab": {
          "base_uri": "https://localhost:8080/",
          "height": 206
        },
        "id": "LK_ntrcZqwja",
        "outputId": "8f186c1c-9c55-400f-de5c-e29d829c1024"
      },
      "execution_count": 28,
      "outputs": [
        {
          "output_type": "display_data",
          "data": {
            "text/plain": [
              "<pandas.io.formats.style.Styler at 0x7d42f9cb97d0>"
            ],
            "text/html": [
              "<style type=\"text/css\">\n",
              "</style>\n",
              "<table id=\"T_1edcd\" class=\"dataframe\">\n",
              "  <thead>\n",
              "    <tr>\n",
              "      <th id=\"T_1edcd_level0_col0\" class=\"col_heading level0 col0\" >메서드</th>\n",
              "      <th id=\"T_1edcd_level0_col1\" class=\"col_heading level0 col1\" >설명</th>\n",
              "    </tr>\n",
              "  </thead>\n",
              "  <tbody>\n",
              "    <tr>\n",
              "      <td id=\"T_1edcd_row0_col0\" class=\"data row0 col0\" >all()</td>\n",
              "      <td id=\"T_1edcd_row0_col1\" class=\"data row0 col1\" >딕셔너리의 모든 키가 True이면 True를 반환 </td>\n",
              "    </tr>\n",
              "    <tr>\n",
              "      <td id=\"T_1edcd_row1_col0\" class=\"data row1 col0\" >any()</td>\n",
              "      <td id=\"T_1edcd_row1_col1\" class=\"data row1 col1\" >딕셔너리의 키 중 하나라도 True이면 True를 반환. 딕셔너리가 비어 있으면 False 반환.</td>\n",
              "    </tr>\n",
              "    <tr>\n",
              "      <td id=\"T_1edcd_row2_col0\" class=\"data row2 col0\" >len()</td>\n",
              "      <td id=\"T_1edcd_row2_col1\" class=\"data row2 col1\" >딕셔너리의 길이를 반환.</td>\n",
              "    </tr>\n",
              "    <tr>\n",
              "      <td id=\"T_1edcd_row3_col0\" class=\"data row3 col0\" >cmp()</td>\n",
              "      <td id=\"T_1edcd_row3_col1\" class=\"data row3 col1\" >두 개의 딕셔너리 항목을 비교</td>\n",
              "    </tr>\n",
              "    <tr>\n",
              "      <td id=\"T_1edcd_row4_col0\" class=\"data row4 col0\" >sorted()</td>\n",
              "      <td id=\"T_1edcd_row4_col1\" class=\"data row4 col1\" >딕셔너리의 키를 정렬한 새로운 리스트를 반환.</td>\n",
              "    </tr>\n",
              "  </tbody>\n",
              "</table>\n"
            ]
          },
          "metadata": {}
        }
      ]
    },
    {
      "cell_type": "code",
      "source": [
        "#all\n",
        "fruits = {\"apple\": \"red\", \"banana\": \"yellow\", \"grape\": \"purple\"}\n",
        "\n",
        "print(all(fruits))"
      ],
      "metadata": {
        "colab": {
          "base_uri": "https://localhost:8080/"
        },
        "id": "MYEASqWDrBTS",
        "outputId": "c8d5a5b0-c729-4e44-919e-ab331dda7e4a"
      },
      "execution_count": 41,
      "outputs": [
        {
          "output_type": "stream",
          "name": "stdout",
          "text": [
            "True\n"
          ]
        }
      ]
    },
    {
      "cell_type": "code",
      "source": [
        "#any\n",
        "\n",
        "fruits = {\"apple\": \"red\", \"banana\": \"yellow\", \"grape\": \"purple\"}\n",
        "print(any(fruits))\n",
        "empty_dict = {}\n",
        "(any(empty_dict))\n"
      ],
      "metadata": {
        "colab": {
          "base_uri": "https://localhost:8080/"
        },
        "id": "0wnCoqp4rBQT",
        "outputId": "9876d562-e464-4809-d8bd-c51e3a467139"
      },
      "execution_count": 40,
      "outputs": [
        {
          "output_type": "stream",
          "name": "stdout",
          "text": [
            "True\n"
          ]
        },
        {
          "output_type": "execute_result",
          "data": {
            "text/plain": [
              "False"
            ]
          },
          "metadata": {},
          "execution_count": 40
        }
      ]
    },
    {
      "cell_type": "code",
      "source": [
        "#len\n",
        "fruits = {\"apple\": \"red\", \"banana\": \"yellow\", \"grape\": \"purple\"}\n",
        "\n",
        "print(len(fruits))"
      ],
      "metadata": {
        "colab": {
          "base_uri": "https://localhost:8080/"
        },
        "id": "UguldwP8rBNi",
        "outputId": "f269b6e4-4b72-4ef1-c3e4-9f29887427dc"
      },
      "execution_count": 39,
      "outputs": [
        {
          "output_type": "stream",
          "name": "stdout",
          "text": [
            "3\n"
          ]
        }
      ]
    },
    {
      "cell_type": "code",
      "source": [],
      "metadata": {
        "id": "a159hjCFrBKC"
      },
      "execution_count": null,
      "outputs": []
    },
    {
      "cell_type": "code",
      "source": [
        "#sorted\n",
        "fruits = {\"banana\": \"yellow\", \"apple\": \"red\", \"grape\": \"purple\"}\n",
        "sorted_keys = sorted(fruits)\n",
        "print(sorted_keys)"
      ],
      "metadata": {
        "colab": {
          "base_uri": "https://localhost:8080/"
        },
        "id": "SK1YPNxPrBG7",
        "outputId": "f5f3e0ba-1dcf-473c-c9bd-587e92848253"
      },
      "execution_count": 38,
      "outputs": [
        {
          "output_type": "stream",
          "name": "stdout",
          "text": [
            "['apple', 'banana', 'grape']\n"
          ]
        }
      ]
    }
  ]
}