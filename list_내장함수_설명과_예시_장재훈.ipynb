{
  "nbformat": 4,
  "nbformat_minor": 0,
  "metadata": {
    "colab": {
      "provenance": []
    },
    "kernelspec": {
      "name": "python3",
      "display_name": "Python 3"
    },
    "language_info": {
      "name": "python"
    }
  },
  "cells": [
    {
      "cell_type": "code",
      "execution_count": 19,
      "metadata": {
        "colab": {
          "base_uri": "https://localhost:8080/"
        },
        "id": "7YqM13qrfQQt",
        "outputId": "f525f20d-d7fe-4c71-9a8a-436acf9bcfa7"
      },
      "outputs": [
        {
          "output_type": "stream",
          "name": "stdout",
          "text": [
            "     Function                        설명\n",
            "0    append()             리스트 끝에 요소를 추가\n",
            "1    extend()  한 리스트의 모든 요소를 다른 리스트에 추가\n",
            "2    insert()            정해진 위치에 항목을 삽입\n",
            "3    remove()              리스트에서 항목을 제거\n",
            "4       pop()      지정한 인덱스의 요소를 반환하고 제거\n",
            "5     clear()            리스트의 모든 항목을 제거\n",
            "6     index()     처음으로 일치하는 항목의 인덱스를 반환\n",
            "7     count()            지정한 항목의 개수를 반환\n",
            "8      sort()        리스트의 항목을 오름차순으로 정렬\n",
            "9   reverse()      리스트의 항목 순서를 반대로 뒤집는다\n",
            "10     copy()           리스트의 얕은 복사본을 반환\n"
          ]
        }
      ],
      "source": [
        "import pandas as pd\n",
        "\n",
        "data = {\n",
        "    \"Function\": [\n",
        "        \"append()\",\n",
        "        \"extend()\",\n",
        "        \"insert()\",\n",
        "        \"remove()\",\n",
        "        \"pop()\",\n",
        "        \"clear()\",\n",
        "        \"index()\",\n",
        "        \"count()\",\n",
        "        \"sort()\",\n",
        "        \"reverse()\",\n",
        "        \"copy()\"\n",
        "    ],\n",
        "    \"설명\": [\n",
        "        \"리스트 끝에 요소를 추가\",\n",
        "        \"한 리스트의 모든 요소를 다른 리스트에 추가\",\n",
        "        \"정해진 위치에 항목을 삽입\",\n",
        "        \"리스트에서 항목을 제거\",\n",
        "        \"지정한 인덱스의 요소를 반환하고 제거\",\n",
        "        \"리스트의 모든 항목을 제거\",\n",
        "        \"처음으로 일치하는 항목의 인덱스를 반환\",\n",
        "        \"지정한 항목의 개수를 반환\",\n",
        "        \"리스트의 항목을 오름차순으로 정렬\",\n",
        "        \"리스트의 항목 순서를 반대로 뒤집는다\",\n",
        "        \"리스트의 얕은 복사본을 반환\"\n",
        "    ]\n",
        "}\n",
        "\n",
        "df = pd.DataFrame(data)\n",
        "print(df)\n"
      ]
    },
    {
      "cell_type": "code",
      "source": [
        "#append\n",
        "animals = ['dog', 'cat', 'rabbit']\n",
        "animals.append('hamster')\n",
        "print(animals)"
      ],
      "metadata": {
        "colab": {
          "base_uri": "https://localhost:8080/"
        },
        "id": "N17u_fnPhRAA",
        "outputId": "90f9e346-2874-4c67-b543-a0a8a182dda5"
      },
      "execution_count": 2,
      "outputs": [
        {
          "output_type": "stream",
          "name": "stdout",
          "text": [
            "['dog', 'cat', 'rabbit', 'hamster']\n"
          ]
        }
      ]
    },
    {
      "cell_type": "code",
      "source": [
        "#extend\n",
        "animals = ['dog', 'cat']\n",
        "animals.extend(['rabbit', 'hamster'])\n",
        "print(animals)"
      ],
      "metadata": {
        "colab": {
          "base_uri": "https://localhost:8080/"
        },
        "id": "hxv9YbakhQ8e",
        "outputId": "68679b9a-24dc-4445-eed3-1194cb54793b"
      },
      "execution_count": 3,
      "outputs": [
        {
          "output_type": "stream",
          "name": "stdout",
          "text": [
            "['dog', 'cat', 'rabbit', 'hamster']\n"
          ]
        }
      ]
    },
    {
      "cell_type": "code",
      "source": [
        "#insert\n",
        "animals = ['dog', 'cat']\n",
        "animals.insert(1, 'rabbit')\n",
        "print(animals)"
      ],
      "metadata": {
        "colab": {
          "base_uri": "https://localhost:8080/"
        },
        "id": "Z8YdAEIrhQ5I",
        "outputId": "de884580-03e1-4b8b-9161-01bd3d81ffb4"
      },
      "execution_count": 4,
      "outputs": [
        {
          "output_type": "stream",
          "name": "stdout",
          "text": [
            "['dog', 'rabbit', 'cat']\n"
          ]
        }
      ]
    },
    {
      "cell_type": "code",
      "source": [
        "#remove\n",
        "animals = ['dog', 'cat', 'rabbit', 'cat']\n",
        "animals.remove('cat')\n",
        "print(animals)"
      ],
      "metadata": {
        "colab": {
          "base_uri": "https://localhost:8080/"
        },
        "id": "mwBmba6LhQ0j",
        "outputId": "ee8b177e-17ec-4371-800f-95460f1a1f45"
      },
      "execution_count": 5,
      "outputs": [
        {
          "output_type": "stream",
          "name": "stdout",
          "text": [
            "['dog', 'rabbit', 'cat']\n"
          ]
        }
      ]
    },
    {
      "cell_type": "code",
      "source": [
        "#pop\n",
        "animals = ['dog', 'cat', 'rabbit']\n",
        "last_animal = animals.pop()\n",
        "print(last_animal)  # 'rabbit'\n",
        "print(animals)"
      ],
      "metadata": {
        "colab": {
          "base_uri": "https://localhost:8080/"
        },
        "id": "Ry4dq6-fhQwF",
        "outputId": "5757f7d3-bcf9-4e66-b6f7-4716b9656bca"
      },
      "execution_count": 6,
      "outputs": [
        {
          "output_type": "stream",
          "name": "stdout",
          "text": [
            "rabbit\n",
            "['dog', 'cat']\n"
          ]
        }
      ]
    },
    {
      "cell_type": "code",
      "source": [
        "#clear\n",
        "animals = ['dog', 'cat', 'rabbit']\n",
        "animals.clear()\n",
        "print(animals)"
      ],
      "metadata": {
        "colab": {
          "base_uri": "https://localhost:8080/"
        },
        "id": "sIGv_A05hQsP",
        "outputId": "51351e74-9688-44c9-ce6d-29a15ec11f03"
      },
      "execution_count": 7,
      "outputs": [
        {
          "output_type": "stream",
          "name": "stdout",
          "text": [
            "[]\n"
          ]
        }
      ]
    },
    {
      "cell_type": "code",
      "source": [
        "#index\n",
        "animals = ['dog', 'cat', 'rabbit']\n",
        "idx = animals.index('cat')\n",
        "print(idx)"
      ],
      "metadata": {
        "colab": {
          "base_uri": "https://localhost:8080/"
        },
        "id": "Tb3kuBIxhQoX",
        "outputId": "5ad9c1c3-76f7-4204-f77c-5c30ae7c14a9"
      },
      "execution_count": 8,
      "outputs": [
        {
          "output_type": "stream",
          "name": "stdout",
          "text": [
            "1\n"
          ]
        }
      ]
    },
    {
      "cell_type": "code",
      "source": [
        "#count\n",
        "animals = ['dog', 'cat', 'rabbit', 'cat']\n",
        "cnt = animals.count('cat')\n",
        "print(cnt)"
      ],
      "metadata": {
        "colab": {
          "base_uri": "https://localhost:8080/"
        },
        "id": "9jnh6ORphQjj",
        "outputId": "bc6506b1-019c-4fda-fdc7-e76ef6b84774"
      },
      "execution_count": 9,
      "outputs": [
        {
          "output_type": "stream",
          "name": "stdout",
          "text": [
            "2\n"
          ]
        }
      ]
    },
    {
      "cell_type": "code",
      "source": [
        "#sort\n",
        "animals = ['rabbit', 'dog', 'cat']\n",
        "animals.sort()\n",
        "print(animals)"
      ],
      "metadata": {
        "colab": {
          "base_uri": "https://localhost:8080/"
        },
        "id": "WLoK6UihhpdP",
        "outputId": "c63b0532-b29f-4cff-9a48-924b75faee49"
      },
      "execution_count": 10,
      "outputs": [
        {
          "output_type": "stream",
          "name": "stdout",
          "text": [
            "['cat', 'dog', 'rabbit']\n"
          ]
        }
      ]
    },
    {
      "cell_type": "code",
      "source": [
        "#reserve\n",
        "animals = ['dog', 'cat', 'rabbit']\n",
        "animals.reverse()\n",
        "print(animals)"
      ],
      "metadata": {
        "colab": {
          "base_uri": "https://localhost:8080/"
        },
        "id": "8Hj9-nLmhpae",
        "outputId": "43a46c55-02f0-4543-cbf1-97a2a53deb07"
      },
      "execution_count": 11,
      "outputs": [
        {
          "output_type": "stream",
          "name": "stdout",
          "text": [
            "['rabbit', 'cat', 'dog']\n"
          ]
        }
      ]
    },
    {
      "cell_type": "code",
      "source": [
        "#copy\n",
        "animals = ['dog', 'cat', 'rabbit']\n",
        "copy_animals = animals.copy()\n",
        "print(copy_animals)"
      ],
      "metadata": {
        "colab": {
          "base_uri": "https://localhost:8080/"
        },
        "id": "WBdBnzlkhpXQ",
        "outputId": "c190b524-38ba-4d74-d446-bb7523604f79"
      },
      "execution_count": 12,
      "outputs": [
        {
          "output_type": "stream",
          "name": "stdout",
          "text": [
            "['dog', 'cat', 'rabbit']\n"
          ]
        }
      ]
    }
  ]
}