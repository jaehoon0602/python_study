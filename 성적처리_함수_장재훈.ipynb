{
  "nbformat": 4,
  "nbformat_minor": 0,
  "metadata": {
    "colab": {
      "provenance": []
    },
    "kernelspec": {
      "name": "python3",
      "display_name": "Python 3"
    },
    "language_info": {
      "name": "python"
    }
  },
  "cells": [
    {
      "cell_type": "code",
      "source": [
        "import random\n",
        "\n",
        "def generate_score():\n",
        "    return {subject: random.randint(0, 100) for subject in [\"math\", \"eng\", \"kor\"]}\n",
        "\n",
        "def create_school_data():\n",
        "    return {\n",
        "        f\"{grade}학년\": {\n",
        "            f\"{ban}반\": {f\"학생{i}\": generate_score() for i in range(1, 11)}\n",
        "            for ban in range(1, 6)\n",
        "        }\n",
        "        for grade in range(1, 7)\n",
        "    }\n",
        "\n",
        "def calculate_class_average(class_data):\n",
        "    totals = {\"math\": 0, \"eng\": 0, \"kor\": 0}\n",
        "    count = len(class_data)\n",
        "\n",
        "    for scores in class_data.values():\n",
        "        for subject in totals:\n",
        "            totals[subject] += scores[subject]\n",
        "\n",
        "    return {subject: round(total / count, 2) for subject, total in totals.items()}\n",
        "\n",
        "def calculate_grade_average(grade_data):\n",
        "    totals = {\"math\": 0, \"eng\": 0, \"kor\": 0}\n",
        "    count = 0\n",
        "\n",
        "    for class_data in grade_data.values():\n",
        "        for scores in class_data.values():\n",
        "            for subject in totals:\n",
        "                totals[subject] += scores[subject]\n",
        "            count += 1\n",
        "\n",
        "    return {subject: round(total / count, 2) for subject, total in totals.items()}\n",
        "\n",
        "def calculate_school_average(school_data):\n",
        "    totals = {\"math\": 0, \"eng\": 0, \"kor\": 0}\n",
        "    count = 0\n",
        "\n",
        "    for grade_data in school_data.values():\n",
        "        for class_data in grade_data.values():\n",
        "            for scores in class_data.values():\n",
        "                for subject in totals:\n",
        "                    totals[subject] += scores[subject]\n",
        "                count += 1\n",
        "\n",
        "    return {subject: round(total / count, 2) for subject, total in totals.items()}\n",
        "\n",
        "school_data = create_school_data()\n",
        "\n",
        "\n",
        "print(\"1학년 1반 평균:\", calculate_class_average(school_data[\"1학년\"][\"1반\"]))\n",
        "print(\"1학년 전체 평균:\", calculate_grade_average(school_data[\"1학년\"]))\n",
        "print(\"전교 전체 평균:\", calculate_school_average(school_data))\n",
        "\n",
        "print(\"\\n학년별 평균:\")\n",
        "for grade in school_data:\n",
        "    avg = calculate_grade_average(school_data[grade])\n",
        "    print(f\"{grade} 평균:\", avg)\n"
      ],
      "metadata": {
        "colab": {
          "base_uri": "https://localhost:8080/"
        },
        "id": "P8xQ2zbB4Knu",
        "outputId": "860af60f-a322-4980-8276-22b34765cbb8"
      },
      "execution_count": 86,
      "outputs": [
        {
          "output_type": "stream",
          "name": "stdout",
          "text": [
            "1학년 1반 평균: {'math': 44.2, 'eng': 56.8, 'kor': 48.0}\n",
            "1학년 전체 평균: {'math': 51.66, 'eng': 52.38, 'kor': 50.88}\n",
            "전교 전체 평균: {'math': 51.0, 'eng': 50.45, 'kor': 49.69}\n",
            "\n",
            "학년별 평균:\n",
            "1학년 평균: {'math': 51.66, 'eng': 52.38, 'kor': 50.88}\n",
            "2학년 평균: {'math': 46.34, 'eng': 51.18, 'kor': 49.82}\n",
            "3학년 평균: {'math': 51.78, 'eng': 47.54, 'kor': 52.98}\n",
            "4학년 평균: {'math': 52.5, 'eng': 52.2, 'kor': 45.6}\n",
            "5학년 평균: {'math': 49.52, 'eng': 46.22, 'kor': 47.52}\n",
            "6학년 평균: {'math': 54.22, 'eng': 53.18, 'kor': 51.36}\n"
          ]
        }
      ]
    }
  ]
}